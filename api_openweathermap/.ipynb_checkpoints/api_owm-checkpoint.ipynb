{
 "cells": [
  {
   "cell_type": "code",
   "execution_count": 1,
   "metadata": {
    "collapsed": true
   },
   "outputs": [],
   "source": [
    "import json"
   ]
  },
  {
   "cell_type": "code",
   "execution_count": 2,
   "metadata": {
    "collapsed": true
   },
   "outputs": [],
   "source": [
    "def load_city_list(data_file):\n",
    "    with open(data_file, 'r') as city_list:\n",
    "        data = [json.loads(line) for line in city_list]\n",
    "        city_list.close()\n",
    "    return data"
   ]
  },
  {
   "cell_type": "code",
   "execution_count": 13,
   "metadata": {
    "collapsed": true
   },
   "outputs": [],
   "source": [
    "def get_city_info(name, data_file = '/Users/pjhuang/dev/utils/api_openweathermap/city.list.us.json'): # need to revise\n",
    "    # load raw city list file\n",
    "\n",
    "    try:\n",
    "        city_list = load_city_list(data_file)\n",
    "    except IOError as e:\n",
    "        return 'I/O error({0}): city list file is not does exist. Please double check your path and file name.'.format(e.errno)\n",
    "\n",
    "    # get city information\n",
    "    city_info = [d for d in city_list if d['name'] == name]\n",
    "    if len(city_info) == 0:\n",
    "        print 'The city is not in the API database. Please double check the spelling or use another city name.'\n",
    "        return None\n",
    "    elif len(city_info) > 1:\n",
    "        print 'Duplicated city name. Returning the first one in the list'\n",
    "    \n",
    "    return city_info[0]\n"
   ]
  },
  {
   "cell_type": "code",
   "execution_count": 21,
   "metadata": {
    "collapsed": false
   },
   "outputs": [
    {
     "name": "stdout",
     "output_type": "stream",
     "text": [
      "{u'country': u'US', u'_id': 5391959, u'name': u'San Francisco', u'coord': {u'lat': 37.774929, u'lon': -122.419418}}\n",
      "5391959\n"
     ]
    }
   ],
   "source": [
    "print get_city_info('San Francisco')\n",
    "\n",
    "city_info = get_city_info('San Francisco')\n",
    "\n"
   ]
  },
  {
   "cell_type": "code",
   "execution_count": 25,
   "metadata": {
    "collapsed": false
   },
   "outputs": [
    {
     "name": "stdout",
     "output_type": "stream",
     "text": [
      "http://api.openweathermap.org/data/2.5/weather?id=&APPID=c50af3f535984f1f53b97c5bdc514d53&id=5391959&units=metric&mode=json\n"
     ]
    }
   ],
   "source": [
    "city_id = city_info.get('_id')\n",
    "user_api = 'c50af3f535984f1f53b97c5bdc514d53'\n",
    "unit = 'metric'\n",
    "api = 'http://api.openweathermap.org/data/2.5/weather?'\n",
    "\n",
    "full_api_url = api + '&APPID=' + user_api + ''&units=' + unit + '&mode=json' \n",
    "print full_api_url\n",
    "\n",
    "http://api.openweathermap.org/data/2.5/weather?id=5391959&appid=c50af3f535984f1f53b97c5bdc514d53"
   ]
  },
  {
   "cell_type": "code",
   "execution_count": null,
   "metadata": {
    "collapsed": true
   },
   "outputs": [],
   "source": []
  }
 ],
 "metadata": {
  "anaconda-cloud": {},
  "kernelspec": {
   "display_name": "Python [Root]",
   "language": "python",
   "name": "Python [Root]"
  },
  "language_info": {
   "codemirror_mode": {
    "name": "ipython",
    "version": 2
   },
   "file_extension": ".py",
   "mimetype": "text/x-python",
   "name": "python",
   "nbconvert_exporter": "python",
   "pygments_lexer": "ipython2",
   "version": "2.7.12"
  }
 },
 "nbformat": 4,
 "nbformat_minor": 0
}
