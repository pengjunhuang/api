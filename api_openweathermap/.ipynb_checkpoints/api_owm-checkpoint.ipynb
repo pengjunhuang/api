{
 "cells": [
  {
   "cell_type": "code",
   "execution_count": 1,
   "metadata": {
    "collapsed": true
   },
   "outputs": [],
   "source": [
    "import json\n",
    "import urllib2\n",
    "from config import global_settings"
   ]
  },
  {
   "cell_type": "code",
   "execution_count": 5,
   "metadata": {
    "collapsed": false
   },
   "outputs": [
    {
     "ename": "NameError",
     "evalue": "name 'output_type' is not defined",
     "output_type": "error",
     "traceback": [
      "\u001b[0;31m---------------------------------------------------------------------------\u001b[0m",
      "\u001b[0;31mNameError\u001b[0m                                 Traceback (most recent call last)",
      "\u001b[0;32m<ipython-input-5-75a5c6824e89>\u001b[0m in \u001b[0;36m<module>\u001b[0;34m()\u001b[0m\n\u001b[1;32m      4\u001b[0m \u001b[0;32mfrom\u001b[0m \u001b[0mutils\u001b[0m\u001b[0;34m.\u001b[0m\u001b[0mdata_utils\u001b[0m \u001b[0;32mimport\u001b[0m \u001b[0mdata_organizer\u001b[0m\u001b[0;34m,\u001b[0m \u001b[0mweather_reporter\u001b[0m\u001b[0;34m\u001b[0m\u001b[0m\n\u001b[1;32m      5\u001b[0m \u001b[0;34m\u001b[0m\u001b[0m\n\u001b[0;32m----> 6\u001b[0;31m \u001b[0;32mclass\u001b[0m \u001b[0mCurrentWeather\u001b[0m\u001b[0;34m(\u001b[0m\u001b[0mobject\u001b[0m\u001b[0;34m)\u001b[0m\u001b[0;34m:\u001b[0m\u001b[0;34m\u001b[0m\u001b[0m\n\u001b[0m\u001b[1;32m      7\u001b[0m \u001b[0;34m\u001b[0m\u001b[0m\n\u001b[1;32m      8\u001b[0m     \u001b[0muser_api\u001b[0m \u001b[0;34m=\u001b[0m \u001b[0mglobal_settings\u001b[0m\u001b[0;34m.\u001b[0m\u001b[0mget\u001b[0m\u001b[0;34m(\u001b[0m\u001b[0;34m'user_api'\u001b[0m\u001b[0;34m)\u001b[0m\u001b[0;34m\u001b[0m\u001b[0m\n",
      "\u001b[0;32m<ipython-input-5-75a5c6824e89>\u001b[0m in \u001b[0;36mCurrentWeather\u001b[0;34m()\u001b[0m\n\u001b[1;32m     26\u001b[0m         \u001b[0;32mreturn\u001b[0m \u001b[0mget_api_data\u001b[0m\u001b[0;34m(\u001b[0m\u001b[0mself\u001b[0m\u001b[0;34m.\u001b[0m\u001b[0mget_api_url\u001b[0m\u001b[0;34m(\u001b[0m\u001b[0;34m)\u001b[0m\u001b[0;34m)\u001b[0m\u001b[0;34m\u001b[0m\u001b[0m\n\u001b[1;32m     27\u001b[0m \u001b[0;34m\u001b[0m\u001b[0m\n\u001b[0;32m---> 28\u001b[0;31m     \u001b[0;32mdef\u001b[0m \u001b[0mget_weather\u001b[0m\u001b[0;34m(\u001b[0m\u001b[0mself\u001b[0m\u001b[0;34m,\u001b[0m \u001b[0moutput_type\u001b[0m \u001b[0;34m=\u001b[0m \u001b[0moutput_type\u001b[0m\u001b[0;34m)\u001b[0m\u001b[0;34m:\u001b[0m\u001b[0;34m\u001b[0m\u001b[0m\n\u001b[0m\u001b[1;32m     29\u001b[0m         \u001b[0;32mreturn\u001b[0m \u001b[0mdata_organizer\u001b[0m\u001b[0;34m(\u001b[0m\u001b[0mself\u001b[0m\u001b[0;34m.\u001b[0m\u001b[0mget_data\u001b[0m\u001b[0;34m(\u001b[0m\u001b[0;34m)\u001b[0m\u001b[0;34m,\u001b[0m \u001b[0moutput_type\u001b[0m\u001b[0;34m)\u001b[0m\u001b[0;34m\u001b[0m\u001b[0m\n\u001b[1;32m     30\u001b[0m \u001b[0;34m\u001b[0m\u001b[0m\n",
      "\u001b[0;31mNameError\u001b[0m: name 'output_type' is not defined"
     ]
    }
   ],
   "source": [
    "from config import global_settings\n",
    "from utils.api_utils import get_api_data\n",
    "from utils.datetime_utils import time_converter\n",
    "from utils.data_utils import data_organizer, weather_reporter\n",
    "\n",
    "class CurrentWeather(object):\n",
    "\n",
    "    user_api = global_settings.get('user_api')\n",
    "    api_main = global_settings.get('api_main')\n",
    "\n",
    "    \n",
    "    def __init__(self, city_name, unit = 'imperial', output_type = 'dict'):\n",
    "        self.city_name = city_name\n",
    "        self.unit = unit\n",
    "        self.output_type = output_type\n",
    "\n",
    "        \n",
    "    def get_api_url(self):\n",
    "        city_name = self.city_name.replace(' ', '%20')\n",
    "        mode = 'json'\n",
    "        api_url = \"{}q={}&units={}&mode={}&appid={}\".format(self.api_main, city_name, self.unit, mode, self.user_api)\n",
    "        return api_url\n",
    "\n",
    "    \n",
    "    def get_data(self):\n",
    "        return get_api_data(self.get_api_url())\n",
    "    \n",
    "    def get_weather(self):\n",
    "        return data_organizer(self.get_data(), self.output_type)\n",
    "    \n",
    "    def report_weather(self):\n",
    "        weather_dict = data_organizer(self.get_data(), 'dict')\n",
    "        return weather_reporter(weather_dict)\n",
    "    \n",
    "    \n",
    "\n",
    "    \n",
    "#     def __print__(self):\n",
    "#         api_data = self.get_weather()\n",
    "#         print '-----------------------------'\n",
    "#         print 'Current weather in: {0}'.format(api_data['name'])\n",
    "#         print api_data['main']['temp'], api_data['weather'][0]['main']\n",
    "#         print 'Max: {}, Min: {}'.format(api_data['main']['temp_max'], api_data['main']['temp_min'])\n",
    "#         print '-----------------------------'\n"
   ]
  },
  {
   "cell_type": "code",
   "execution_count": 4,
   "metadata": {
    "collapsed": false
   },
   "outputs": [
    {
     "ename": "NameError",
     "evalue": "name 'CurrentWeather' is not defined",
     "output_type": "error",
     "traceback": [
      "\u001b[0;31m---------------------------------------------------------------------------\u001b[0m",
      "\u001b[0;31mNameError\u001b[0m                                 Traceback (most recent call last)",
      "\u001b[0;32m<ipython-input-4-804faf40676c>\u001b[0m in \u001b[0;36m<module>\u001b[0;34m()\u001b[0m\n\u001b[0;32m----> 1\u001b[0;31m \u001b[0msf_current\u001b[0m \u001b[0;34m=\u001b[0m \u001b[0mCurrentWeather\u001b[0m\u001b[0;34m(\u001b[0m\u001b[0;34m'San Francisco'\u001b[0m\u001b[0;34m)\u001b[0m\u001b[0;34m\u001b[0m\u001b[0m\n\u001b[0m\u001b[1;32m      2\u001b[0m \u001b[0;32mprint\u001b[0m \u001b[0msf_current\u001b[0m\u001b[0;34m.\u001b[0m\u001b[0mget_data\u001b[0m\u001b[0;34m(\u001b[0m\u001b[0;34m)\u001b[0m\u001b[0;34m\u001b[0m\u001b[0m\n\u001b[1;32m      3\u001b[0m \u001b[0;32mprint\u001b[0m \u001b[0msf_current\u001b[0m\u001b[0;34m.\u001b[0m\u001b[0mget_weather\u001b[0m\u001b[0;34m(\u001b[0m\u001b[0;34m)\u001b[0m\u001b[0;34m\u001b[0m\u001b[0m\n\u001b[1;32m      4\u001b[0m \u001b[0;34m\u001b[0m\u001b[0m\n\u001b[1;32m      5\u001b[0m \u001b[0ma\u001b[0m \u001b[0;34m=\u001b[0m \u001b[0msf_current\u001b[0m\u001b[0;34m.\u001b[0m\u001b[0mget_weather\u001b[0m\u001b[0;34m(\u001b[0m\u001b[0;34m)\u001b[0m\u001b[0;34m\u001b[0m\u001b[0m\n",
      "\u001b[0;31mNameError\u001b[0m: name 'CurrentWeather' is not defined"
     ]
    }
   ],
   "source": [
    "sf_current = CurrentWeather('San Francisco')\n",
    "print sf_current.get_data()\n",
    "print sf_current.get_weather()\n",
    "\n",
    "a = sf_current.get_weather()\n",
    "\n",
    "print weather_reporter(a)\n",
    "\n"
   ]
  },
  {
   "cell_type": "code",
   "execution_count": 41,
   "metadata": {
    "collapsed": false
   },
   "outputs": [
    {
     "name": "stdout",
     "output_type": "stream",
     "text": [
      "            city  cloudiness country                dt  humidity  pressure  \\\n",
      "0  San Francisco          20      US  Aug 22: 11:24 PM        82      1016   \n",
      "\n",
      "      sky   sunrise    sunset   temp  temp_max  temp_min  wind_degree  \\\n",
      "0  Clouds  06:32 AM  07:50 PM  59.31      64.4        55          290   \n",
      "\n",
      "   wind_speed  \n",
      "0       10.29  \n"
     ]
    }
   ],
   "source": [
    "a = sf_current.get_weather()\n",
    "import pandas as pd\n",
    "\n",
    "b = pd.DataFrame(a, index=[0])\n",
    "print b\n",
    "\n"
   ]
  },
  {
   "cell_type": "code",
   "execution_count": 4,
   "metadata": {
    "collapsed": false
   },
   "outputs": [
    {
     "name": "stdout",
     "output_type": "stream",
     "text": [
      "{u'clouds': {u'all': 20}, u'name': u'San Francisco', u'coord': {u'lat': 37.77, u'lon': -122.42}, u'sys': {u'country': u'US', u'sunset': 1472007037, u'message': 0.0143, u'type': 1, u'id': 478, u'sunrise': 1471959169}, u'weather': [{u'main': u'Clouds', u'id': 801, u'icon': u'02n', u'description': u'few clouds'}], u'cod': 200, u'base': u'cmc stations', u'dt': 1471931367, u'main': {u'pressure': 1016, u'temp_min': 55, u'temp_max': 64.4, u'temp': 59.56, u'humidity': 82}, u'id': 5391959, u'wind': {u'speed': 11.41, u'deg': 290}}\n"
     ]
    }
   ],
   "source": [
    "api_data = sf_current.get_weather()\n",
    "print api_data"
   ]
  },
  {
   "cell_type": "code",
   "execution_count": 6,
   "metadata": {
    "collapsed": false
   },
   "outputs": [
    {
     "name": "stdout",
     "output_type": "stream",
     "text": [
      "{'wind_speed': 11.41, 'city': u'San Francisco', 'temp': 59.56, 'temp_max': 64.4, 'temp_min': 55, 'sky': u'Clouds', 'humidity': 82, 'pressure': 1016, 'sunset': '07:50 PM', 'sunrise': '06:32 AM', 'country': u'US', 'dt': 'Aug 22: 10:49 PM', 'cloudiness': 20, 'wind_degree': 290}\n"
     ]
    }
   ],
   "source": [
    "data_organizer()"
   ]
  },
  {
   "cell_type": "code",
   "execution_count": null,
   "metadata": {
    "collapsed": true
   },
   "outputs": [],
   "source": []
  },
  {
   "cell_type": "code",
   "execution_count": null,
   "metadata": {
    "collapsed": true
   },
   "outputs": [],
   "source": []
  }
 ],
 "metadata": {
  "anaconda-cloud": {},
  "kernelspec": {
   "display_name": "Python [Root]",
   "language": "python",
   "name": "Python [Root]"
  },
  "language_info": {
   "codemirror_mode": {
    "name": "ipython",
    "version": 2
   },
   "file_extension": ".py",
   "mimetype": "text/x-python",
   "name": "python",
   "nbconvert_exporter": "python",
   "pygments_lexer": "ipython2",
   "version": "2.7.12"
  }
 },
 "nbformat": 4,
 "nbformat_minor": 0
}
