{
 "cells": [
  {
   "cell_type": "code",
   "execution_count": 9,
   "metadata": {
    "collapsed": false
   },
   "outputs": [],
   "source": [
    "from config import global_settings\n",
    "from utils.api_utils import get_api_data\n",
    "from utils.datetime_utils import time_converter\n",
    "from utils.data_utils import data_organizer, weather_reporter\n",
    "\n",
    "class CurrentWeather(object):\n",
    "    \n",
    "    user_api = global_settings.get('user_api')\n",
    "    api_main = global_settings.get('api_main')\n",
    "\n",
    "    \n",
    "    def __init__(self, city_name, unit = 'imperial', output_type = 'dict'):\n",
    "        self.city_name = city_name\n",
    "        self.unit = unit\n",
    "        self.output_type = output_type\n",
    "\n",
    "        \n",
    "    def get_api_url(self):\n",
    "        city_name = self.city_name.replace(' ', '%20')\n",
    "        mode = 'json'\n",
    "        api_url = \"{}q={}&units={}&mode={}&appid={}\".format(self.api_main, city_name, self.unit, mode, self.user_api)\n",
    "        return api_url\n",
    "\n",
    "    \n",
    "    def get_data(self):\n",
    "        return get_api_data(self.get_api_url())\n",
    "    \n",
    "    def get_weather(self):\n",
    "        return data_organizer(self.get_data(), self.output_type)\n",
    "    \n",
    "    def report_weather(self):\n",
    "        weather_dict = data_organizer(self.get_data(), 'dict')\n",
    "        return weather_reporter(weather_dict)\n",
    "    "
   ]
  },
  {
   "cell_type": "code",
   "execution_count": 11,
   "metadata": {
    "collapsed": false
   },
   "outputs": [
    {
     "name": "stdout",
     "output_type": "stream",
     "text": [
      "{u'clouds': {u'all': 20}, u'name': u'San Francisco', u'visibility': 16093, u'sys': {u'country': u'US', u'sunset': 1472007022, u'message': 0.0345, u'type': 1, u'id': 478, u'sunrise': 1471959178}, u'weather': [{u'main': u'Clouds', u'id': 801, u'icon': u'02n', u'description': u'few clouds'}], u'coord': {u'lat': 37.77, u'lon': -122.42}, u'base': u'stations', u'dt': 1471946784, u'main': {u'pressure': 1016, u'temp_min': 53.01, u'temp_max': 62.6, u'temp': 58.35, u'humidity': 82}, u'id': 5391959, u'wind': {u'speed': 8.05, u'deg': 260}, u'cod': 200}\n"
     ]
    }
   ],
   "source": [
    "sf_current = CurrentWeather('San Francisco', output_type='dict')\n",
    "# print sf_current.api_main\n",
    "# print sf_current.get_data()\n",
    "# print sf_current.get_weather()\n",
    "# print sf_current.report_weather()\n",
    "print sf_current.get_data()\n",
    "\n"
   ]
  },
  {
   "cell_type": "code",
   "execution_count": 41,
   "metadata": {
    "collapsed": false
   },
   "outputs": [
    {
     "name": "stdout",
     "output_type": "stream",
     "text": [
      "            city  cloudiness country                dt  humidity  pressure  \\\n",
      "0  San Francisco          20      US  Aug 22: 11:24 PM        82      1016   \n",
      "\n",
      "      sky   sunrise    sunset   temp  temp_max  temp_min  wind_degree  \\\n",
      "0  Clouds  06:32 AM  07:50 PM  59.31      64.4        55          290   \n",
      "\n",
      "   wind_speed  \n",
      "0       10.29  \n"
     ]
    }
   ],
   "source": [
    "a = sf_current.get_weather()\n",
    "import pandas as pd\n",
    "\n",
    "b = pd.DataFrame(a, index=[0])\n",
    "print b\n",
    "\n"
   ]
  },
  {
   "cell_type": "code",
   "execution_count": 4,
   "metadata": {
    "collapsed": false
   },
   "outputs": [
    {
     "name": "stdout",
     "output_type": "stream",
     "text": [
      "{u'clouds': {u'all': 20}, u'name': u'San Francisco', u'coord': {u'lat': 37.77, u'lon': -122.42}, u'sys': {u'country': u'US', u'sunset': 1472007037, u'message': 0.0143, u'type': 1, u'id': 478, u'sunrise': 1471959169}, u'weather': [{u'main': u'Clouds', u'id': 801, u'icon': u'02n', u'description': u'few clouds'}], u'cod': 200, u'base': u'cmc stations', u'dt': 1471931367, u'main': {u'pressure': 1016, u'temp_min': 55, u'temp_max': 64.4, u'temp': 59.56, u'humidity': 82}, u'id': 5391959, u'wind': {u'speed': 11.41, u'deg': 290}}\n"
     ]
    }
   ],
   "source": [
    "api_data = sf_current.get_weather()\n",
    "print api_data"
   ]
  },
  {
   "cell_type": "code",
   "execution_count": 6,
   "metadata": {
    "collapsed": false
   },
   "outputs": [
    {
     "name": "stdout",
     "output_type": "stream",
     "text": [
      "{'wind_speed': 11.41, 'city': u'San Francisco', 'temp': 59.56, 'temp_max': 64.4, 'temp_min': 55, 'sky': u'Clouds', 'humidity': 82, 'pressure': 1016, 'sunset': '07:50 PM', 'sunrise': '06:32 AM', 'country': u'US', 'dt': 'Aug 22: 10:49 PM', 'cloudiness': 20, 'wind_degree': 290}\n"
     ]
    }
   ],
   "source": [
    "data_organizer()"
   ]
  },
  {
   "cell_type": "code",
   "execution_count": null,
   "metadata": {
    "collapsed": true
   },
   "outputs": [],
   "source": []
  },
  {
   "cell_type": "code",
   "execution_count": 8,
   "metadata": {
    "collapsed": true
   },
   "outputs": [],
   "source": [
    "class Test:\n",
    "    a = None\n",
    "    b = None\n",
    "\n",
    "    def __init__(self, a):\n",
    "        print self.a\n",
    "        self.a = a\n",
    "        self._x = 123\n",
    "        self.__y = 123\n",
    "        b = 'meow'"
   ]
  },
  {
   "cell_type": "code",
   "execution_count": 14,
   "metadata": {
    "collapsed": false
   },
   "outputs": [
    {
     "name": "stdout",
     "output_type": "stream",
     "text": [
      "None\n"
     ]
    }
   ],
   "source": [
    "k = Test(10)"
   ]
  },
  {
   "cell_type": "code",
   "execution_count": 4,
   "metadata": {
    "collapsed": false
   },
   "outputs": [
    {
     "name": "stdout",
     "output_type": "stream",
     "text": [
      "°\n"
     ]
    }
   ],
   "source": [
    "\n",
    "print u'\\xb0'.encode('utf8')"
   ]
  },
  {
   "cell_type": "code",
   "execution_count": 5,
   "metadata": {
    "collapsed": true
   },
   "outputs": [],
   "source": [
    "def is_ascii(s):\n",
    "    return all(ord(c) < 128 for c in s)"
   ]
  },
  {
   "cell_type": "code",
   "execution_count": 9,
   "metadata": {
    "collapsed": false
   },
   "outputs": [
    {
     "data": {
      "text/plain": [
       "False"
      ]
     },
     "execution_count": 9,
     "metadata": {},
     "output_type": "execute_result"
    }
   ],
   "source": [
    "is_ascii('u\\xb0')"
   ]
  },
  {
   "cell_type": "code",
   "execution_count": 7,
   "metadata": {
    "collapsed": false
   },
   "outputs": [],
   "source": [
    "s = u'\\xb0'.encode('utf8') + 'F'"
   ]
  },
  {
   "cell_type": "code",
   "execution_count": 8,
   "metadata": {
    "collapsed": false
   },
   "outputs": [
    {
     "name": "stdout",
     "output_type": "stream",
     "text": [
      "°F\n"
     ]
    }
   ],
   "source": [
    "print s"
   ]
  },
  {
   "cell_type": "code",
   "execution_count": null,
   "metadata": {
    "collapsed": true
   },
   "outputs": [],
   "source": []
  }
 ],
 "metadata": {
  "anaconda-cloud": {},
  "kernelspec": {
   "display_name": "Python [Root]",
   "language": "python",
   "name": "Python [Root]"
  },
  "language_info": {
   "codemirror_mode": {
    "name": "ipython",
    "version": 2
   },
   "file_extension": ".py",
   "mimetype": "text/x-python",
   "name": "python",
   "nbconvert_exporter": "python",
   "pygments_lexer": "ipython2",
   "version": "2.7.12"
  }
 },
 "nbformat": 4,
 "nbformat_minor": 0
}
